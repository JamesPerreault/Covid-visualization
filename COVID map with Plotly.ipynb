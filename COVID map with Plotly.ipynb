{
 "cells": [
  {
   "cell_type": "code",
   "execution_count": 1,
   "metadata": {},
   "outputs": [],
   "source": [
    "import pandas as pd\n",
    "import numpy as np"
   ]
  },
  {
   "cell_type": "markdown",
   "metadata": {},
   "source": [
    "# Load Maryland data\n",
    "\n",
    "## Define zip codes"
   ]
  },
  {
   "cell_type": "code",
   "execution_count": 2,
   "metadata": {},
   "outputs": [],
   "source": [
    "md_zip_ranges = [\n",
    "    (20331,20331),\n",
    "    (20335,20797),\n",
    "    (20812,21930)\n",
    "   \n",
    "]\n",
    "\n",
    "md_zips = ['%05d' % zipc for zip_range in md_zip_ranges\n",
    "                     for zipc in range(zip_range[0],zip_range[1]+1)]\n",
    "\n",
    "cases = pd.DataFrame(\n",
    "    [np.NaN for _ in range(len(md_zips))],\n",
    "    index=md_zips,\n",
    "    columns=['cases']\n",
    ")\n",
    "\n",
    "md_zips = set(md_zips)"
   ]
  },
  {
   "cell_type": "markdown",
   "metadata": {},
   "source": [
    "## MD County COVID-19 Cases By Zip Code"
   ]
  },
  {
   "cell_type": "code",
   "execution_count": 3,
   "metadata": {},
   "outputs": [],
   "source": [
    "import requests"
   ]
  },
  {
   "cell_type": "code",
   "execution_count": 4,
   "metadata": {},
   "outputs": [],
   "source": [
    "zips_json = requests.get('https://services.arcgis.com/njFNhDsUCentVYJW/arcgis/rest/services/ZIPCodes_MD_1/FeatureServer/0/query?f=json&where=ProtectedCount%3E%3D8&returnGeometry=false&spatialRel=esriSpatialRelIntersects&outFields=*&orderByFields=ZIPCODE1%20asc&resultOffset=0&resultRecordCount=300&cacheHint=true')\n"
   ]
  },
  {
   "cell_type": "code",
   "execution_count": 5,
   "metadata": {},
   "outputs": [],
   "source": [
    "current_cases = pd.DataFrame.from_dict (dict((x['attributes']['ZIPCODE1'],x['attributes']['ProtectedCount'])\n",
    "                        for x in zips_json.json()['features'] ), orient='index', columns=['cases']) "
   ]
  },
  {
   "cell_type": "code",
   "execution_count": 6,
   "metadata": {},
   "outputs": [],
   "source": [
    "cases.update(current_cases)\n",
    "cases = cases.dropna()"
   ]
  },
  {
   "cell_type": "markdown",
   "metadata": {},
   "source": [
    "## Maryland population data"
   ]
  },
  {
   "cell_type": "code",
   "execution_count": 7,
   "metadata": {},
   "outputs": [],
   "source": [
    "pop = pd.read_csv('population_by_zip_2010.csv',dtype={'zipcode': str})\n",
    "pop['ZIPCODE'] = pop['zipcode']\n",
    "pop.set_index('ZIPCODE')\n",
    "\n",
    "pop = pop[(pop['gender'] != 'male') & (pop['gender'] != 'female')]"
   ]
  },
  {
   "cell_type": "code",
   "execution_count": 8,
   "metadata": {},
   "outputs": [
    {
     "data": {
      "text/html": [
       "<div>\n",
       "<style scoped>\n",
       "    .dataframe tbody tr th:only-of-type {\n",
       "        vertical-align: middle;\n",
       "    }\n",
       "\n",
       "    .dataframe tbody tr th {\n",
       "        vertical-align: top;\n",
       "    }\n",
       "\n",
       "    .dataframe thead th {\n",
       "        text-align: right;\n",
       "    }\n",
       "</style>\n",
       "<table border=\"1\" class=\"dataframe\">\n",
       "  <thead>\n",
       "    <tr style=\"text-align: right;\">\n",
       "      <th></th>\n",
       "      <th>cases</th>\n",
       "      <th>population</th>\n",
       "      <th>minimum_age</th>\n",
       "      <th>maximum_age</th>\n",
       "      <th>gender</th>\n",
       "      <th>zipcode</th>\n",
       "      <th>geo_id</th>\n",
       "      <th>ZIPCODE</th>\n",
       "    </tr>\n",
       "  </thead>\n",
       "  <tbody>\n",
       "    <tr>\n",
       "      <th>46</th>\n",
       "      <td>52.0</td>\n",
       "      <td>25173</td>\n",
       "      <td>NaN</td>\n",
       "      <td>NaN</td>\n",
       "      <td>NaN</td>\n",
       "      <td>20770</td>\n",
       "      <td>8600000US20770</td>\n",
       "      <td>20770</td>\n",
       "    </tr>\n",
       "  </tbody>\n",
       "</table>\n",
       "</div>"
      ],
      "text/plain": [
       "    cases  population  minimum_age  maximum_age gender zipcode  \\\n",
       "46   52.0       25173          NaN          NaN    NaN   20770   \n",
       "\n",
       "            geo_id ZIPCODE  \n",
       "46  8600000US20770   20770  "
      ]
     },
     "execution_count": 8,
     "metadata": {},
     "output_type": "execute_result"
    }
   ],
   "source": [
    "pop_cases = cases.merge(pop,left_on=cases.index,right_on='ZIPCODE')\n",
    "pop_cases.loc[pop_cases.ZIPCODE == '20770']"
   ]
  },
  {
   "cell_type": "code",
   "execution_count": 9,
   "metadata": {},
   "outputs": [
    {
     "data": {
      "text/html": [
       "<div>\n",
       "<style scoped>\n",
       "    .dataframe tbody tr th:only-of-type {\n",
       "        vertical-align: middle;\n",
       "    }\n",
       "\n",
       "    .dataframe tbody tr th {\n",
       "        vertical-align: top;\n",
       "    }\n",
       "\n",
       "    .dataframe thead th {\n",
       "        text-align: right;\n",
       "    }\n",
       "</style>\n",
       "<table border=\"1\" class=\"dataframe\">\n",
       "  <thead>\n",
       "    <tr style=\"text-align: right;\">\n",
       "      <th></th>\n",
       "      <th>cases</th>\n",
       "      <th>population</th>\n",
       "      <th>minimum_age</th>\n",
       "      <th>maximum_age</th>\n",
       "      <th>gender</th>\n",
       "      <th>zipcode</th>\n",
       "      <th>geo_id</th>\n",
       "      <th>ZIPCODE</th>\n",
       "    </tr>\n",
       "  </thead>\n",
       "  <tbody>\n",
       "    <tr>\n",
       "      <th>116</th>\n",
       "      <td>61.0</td>\n",
       "      <td>60576</td>\n",
       "      <td>NaN</td>\n",
       "      <td>NaN</td>\n",
       "      <td>NaN</td>\n",
       "      <td>21122</td>\n",
       "      <td>8600000US21122</td>\n",
       "      <td>21122</td>\n",
       "    </tr>\n",
       "  </tbody>\n",
       "</table>\n",
       "</div>"
      ],
      "text/plain": [
       "     cases  population  minimum_age  maximum_age gender zipcode  \\\n",
       "116   61.0       60576          NaN          NaN    NaN   21122   \n",
       "\n",
       "             geo_id ZIPCODE  \n",
       "116  8600000US21122   21122  "
      ]
     },
     "execution_count": 9,
     "metadata": {},
     "output_type": "execute_result"
    }
   ],
   "source": [
    "pop_cases[pop_cases.ZIPCODE == '21122']"
   ]
  },
  {
   "cell_type": "markdown",
   "metadata": {},
   "source": [
    "# Load DC data"
   ]
  },
  {
   "cell_type": "markdown",
   "metadata": {},
   "source": [
    "Add in DC zip codes"
   ]
  },
  {
   "cell_type": "code",
   "execution_count": 10,
   "metadata": {},
   "outputs": [],
   "source": [
    "dc_zips = pd.read_csv(\"dc-zipcodes.csv\").zipcode.tolist()\n"
   ]
  },
  {
   "cell_type": "code",
   "execution_count": 11,
   "metadata": {},
   "outputs": [],
   "source": [
    "dc_zips = set([ str(x) for x in dc_zips])"
   ]
  },
  {
   "cell_type": "markdown",
   "metadata": {},
   "source": [
    "## DC population data"
   ]
  },
  {
   "cell_type": "code",
   "execution_count": 12,
   "metadata": {},
   "outputs": [],
   "source": [
    "df_dc_pop = pop[pop.apply(lambda x: x.ZIPCODE in dc_zips,axis=1 )] "
   ]
  },
  {
   "cell_type": "code",
   "execution_count": 13,
   "metadata": {},
   "outputs": [
    {
     "data": {
      "text/plain": [
       "601239"
      ]
     },
     "execution_count": 13,
     "metadata": {},
     "output_type": "execute_result"
    }
   ],
   "source": [
    "dc_pop = df_dc_pop.population.sum()\n",
    "dc_pop"
   ]
  },
  {
   "cell_type": "markdown",
   "metadata": {},
   "source": [
    "## DC Covid Data"
   ]
  },
  {
   "cell_type": "code",
   "execution_count": 14,
   "metadata": {},
   "outputs": [],
   "source": [
    "df_states = pd.read_csv(\"https://covidtracking.com/api/v1/states/current.csv\")"
   ]
  },
  {
   "cell_type": "code",
   "execution_count": 15,
   "metadata": {},
   "outputs": [
    {
     "data": {
      "text/html": [
       "<div>\n",
       "<style scoped>\n",
       "    .dataframe tbody tr th:only-of-type {\n",
       "        vertical-align: middle;\n",
       "    }\n",
       "\n",
       "    .dataframe tbody tr th {\n",
       "        vertical-align: top;\n",
       "    }\n",
       "\n",
       "    .dataframe thead th {\n",
       "        text-align: right;\n",
       "    }\n",
       "</style>\n",
       "<table border=\"1\" class=\"dataframe\">\n",
       "  <thead>\n",
       "    <tr style=\"text-align: right;\">\n",
       "      <th></th>\n",
       "      <th>state</th>\n",
       "      <th>positive</th>\n",
       "      <th>positiveScore</th>\n",
       "      <th>negativeScore</th>\n",
       "      <th>negativeRegularScore</th>\n",
       "      <th>commercialScore</th>\n",
       "      <th>grade</th>\n",
       "      <th>score</th>\n",
       "      <th>negative</th>\n",
       "      <th>pending</th>\n",
       "      <th>...</th>\n",
       "      <th>death</th>\n",
       "      <th>hospitalized</th>\n",
       "      <th>total</th>\n",
       "      <th>totalTestResults</th>\n",
       "      <th>posNeg</th>\n",
       "      <th>fips</th>\n",
       "      <th>dateModified</th>\n",
       "      <th>dateChecked</th>\n",
       "      <th>notes</th>\n",
       "      <th>hash</th>\n",
       "    </tr>\n",
       "  </thead>\n",
       "  <tbody>\n",
       "    <tr>\n",
       "      <th>7</th>\n",
       "      <td>DC</td>\n",
       "      <td>2058</td>\n",
       "      <td>1.0</td>\n",
       "      <td>1.0</td>\n",
       "      <td>1.0</td>\n",
       "      <td>1.0</td>\n",
       "      <td>A</td>\n",
       "      <td>4.0</td>\n",
       "      <td>9460</td>\n",
       "      <td>NaN</td>\n",
       "      <td>...</td>\n",
       "      <td>67.0</td>\n",
       "      <td>NaN</td>\n",
       "      <td>11518</td>\n",
       "      <td>11518</td>\n",
       "      <td>11518</td>\n",
       "      <td>11</td>\n",
       "      <td>2020-04-14T04:00:00Z</td>\n",
       "      <td>2020-04-14T18:48:00Z</td>\n",
       "      <td>Please stop using the \"total\" field. Use \"tota...</td>\n",
       "      <td>214b5f2a1b8cbb9cee3522129fac911f5fe8f8d6</td>\n",
       "    </tr>\n",
       "  </tbody>\n",
       "</table>\n",
       "<p>1 rows × 29 columns</p>\n",
       "</div>"
      ],
      "text/plain": [
       "  state  positive  positiveScore  negativeScore  negativeRegularScore  \\\n",
       "7    DC      2058            1.0            1.0                   1.0   \n",
       "\n",
       "   commercialScore grade  score  negative  pending  ...  death  hospitalized  \\\n",
       "7              1.0     A    4.0      9460      NaN  ...   67.0           NaN   \n",
       "\n",
       "   total  totalTestResults  posNeg  fips          dateModified  \\\n",
       "7  11518             11518   11518    11  2020-04-14T04:00:00Z   \n",
       "\n",
       "            dateChecked                                              notes  \\\n",
       "7  2020-04-14T18:48:00Z  Please stop using the \"total\" field. Use \"tota...   \n",
       "\n",
       "                                       hash  \n",
       "7  214b5f2a1b8cbb9cee3522129fac911f5fe8f8d6  \n",
       "\n",
       "[1 rows x 29 columns]"
      ]
     },
     "execution_count": 15,
     "metadata": {},
     "output_type": "execute_result"
    }
   ],
   "source": [
    "df_dc = df_states[df_states.state == 'DC']\n",
    "df_dc"
   ]
  },
  {
   "cell_type": "markdown",
   "metadata": {},
   "source": [
    "## Merge DC and Maryland cases"
   ]
  },
  {
   "cell_type": "code",
   "execution_count": 16,
   "metadata": {},
   "outputs": [],
   "source": [
    "pop_cases = pop_cases.append({ 'cases': int(df_dc.positive),'population': dc_pop, 'zipcode': 'DC', \n",
    "                 'ZIPCODE': 'DC'}, ignore_index=True)"
   ]
  },
  {
   "cell_type": "markdown",
   "metadata": {},
   "source": [
    "# Load shape data"
   ]
  },
  {
   "cell_type": "markdown",
   "metadata": {},
   "source": [
    "## Maryland shape data"
   ]
  },
  {
   "cell_type": "code",
   "execution_count": 17,
   "metadata": {},
   "outputs": [],
   "source": [
    "import shapefile\n",
    "shape = shapefile.Reader(\"shapefiles/cb_2018_us_zcta510_500k.shp\")"
   ]
  },
  {
   "cell_type": "code",
   "execution_count": 18,
   "metadata": {},
   "outputs": [],
   "source": [
    "md_features = [] \n"
   ]
  },
  {
   "cell_type": "code",
   "execution_count": 19,
   "metadata": {},
   "outputs": [],
   "source": [
    "for rec in shape.iterShapeRecords():\n",
    "    zipcode = rec.record['GEOID10']\n",
    "    if zipcode in md_zips:\n",
    "            md_features.append(rec.__geo_interface__)\n",
    "\n"
   ]
  },
  {
   "cell_type": "markdown",
   "metadata": {},
   "source": [
    "## US States shape data"
   ]
  },
  {
   "cell_type": "code",
   "execution_count": 20,
   "metadata": {},
   "outputs": [],
   "source": [
    "us_states_shapes = shapefile.Reader(\"shapefiles/cb_2018_us_state_5m.shp\")"
   ]
  },
  {
   "cell_type": "code",
   "execution_count": 21,
   "metadata": {},
   "outputs": [],
   "source": [
    "for rec in us_states_shapes.iterShapeRecords():\n",
    "    geo_rec = rec.__geo_interface__ \n",
    "    # since we're merging on zipcode, copy state id to a dummy zipcode field\n",
    "    geo_rec['properties']['ZCTA5CE10'] = rec.record['STUSPS']\n",
    "    md_features.append(geo_rec)\n"
   ]
  },
  {
   "cell_type": "markdown",
   "metadata": {},
   "source": [
    "## Create geo object"
   ]
  },
  {
   "cell_type": "code",
   "execution_count": 22,
   "metadata": {},
   "outputs": [],
   "source": [
    "md_geos = { \"type\" : \"FeatureCollection\", \"features\" : md_features}"
   ]
  },
  {
   "cell_type": "markdown",
   "metadata": {},
   "source": [
    "# Cases per 1000"
   ]
  },
  {
   "cell_type": "code",
   "execution_count": 23,
   "metadata": {},
   "outputs": [
    {
     "data": {
      "text/html": [
       "<div>\n",
       "<style scoped>\n",
       "    .dataframe tbody tr th:only-of-type {\n",
       "        vertical-align: middle;\n",
       "    }\n",
       "\n",
       "    .dataframe tbody tr th {\n",
       "        vertical-align: top;\n",
       "    }\n",
       "\n",
       "    .dataframe thead th {\n",
       "        text-align: right;\n",
       "    }\n",
       "</style>\n",
       "<table border=\"1\" class=\"dataframe\">\n",
       "  <thead>\n",
       "    <tr style=\"text-align: right;\">\n",
       "      <th></th>\n",
       "      <th>ZIPCODE</th>\n",
       "      <th>density</th>\n",
       "      <th>cases</th>\n",
       "      <th>population</th>\n",
       "    </tr>\n",
       "  </thead>\n",
       "  <tbody>\n",
       "    <tr>\n",
       "      <th>163</th>\n",
       "      <td>21502</td>\n",
       "      <td>0.247748</td>\n",
       "      <td>11.0</td>\n",
       "      <td>44400</td>\n",
       "    </tr>\n",
       "    <tr>\n",
       "      <th>183</th>\n",
       "      <td>21811</td>\n",
       "      <td>0.443459</td>\n",
       "      <td>10.0</td>\n",
       "      <td>22550</td>\n",
       "    </tr>\n",
       "    <tr>\n",
       "      <th>165</th>\n",
       "      <td>21613</td>\n",
       "      <td>0.461627</td>\n",
       "      <td>8.0</td>\n",
       "      <td>17330</td>\n",
       "    </tr>\n",
       "    <tr>\n",
       "      <th>87</th>\n",
       "      <td>21009</td>\n",
       "      <td>0.470335</td>\n",
       "      <td>14.0</td>\n",
       "      <td>29766</td>\n",
       "    </tr>\n",
       "    <tr>\n",
       "      <th>89</th>\n",
       "      <td>21014</td>\n",
       "      <td>0.471607</td>\n",
       "      <td>17.0</td>\n",
       "      <td>36047</td>\n",
       "    </tr>\n",
       "    <tr>\n",
       "      <th>...</th>\n",
       "      <td>...</td>\n",
       "      <td>...</td>\n",
       "      <td>...</td>\n",
       "      <td>...</td>\n",
       "    </tr>\n",
       "    <tr>\n",
       "      <th>30</th>\n",
       "      <td>20722</td>\n",
       "      <td>3.502014</td>\n",
       "      <td>20.0</td>\n",
       "      <td>5711</td>\n",
       "    </tr>\n",
       "    <tr>\n",
       "      <th>175</th>\n",
       "      <td>21771</td>\n",
       "      <td>3.585563</td>\n",
       "      <td>106.0</td>\n",
       "      <td>29563</td>\n",
       "    </tr>\n",
       "    <tr>\n",
       "      <th>4</th>\n",
       "      <td>20613</td>\n",
       "      <td>3.625632</td>\n",
       "      <td>43.0</td>\n",
       "      <td>11860</td>\n",
       "    </tr>\n",
       "    <tr>\n",
       "      <th>19</th>\n",
       "      <td>20706</td>\n",
       "      <td>3.954306</td>\n",
       "      <td>153.0</td>\n",
       "      <td>38692</td>\n",
       "    </tr>\n",
       "    <tr>\n",
       "      <th>6</th>\n",
       "      <td>20623</td>\n",
       "      <td>4.373178</td>\n",
       "      <td>12.0</td>\n",
       "      <td>2744</td>\n",
       "    </tr>\n",
       "  </tbody>\n",
       "</table>\n",
       "<p>187 rows × 4 columns</p>\n",
       "</div>"
      ],
      "text/plain": [
       "    ZIPCODE   density  cases  population\n",
       "163   21502  0.247748   11.0       44400\n",
       "183   21811  0.443459   10.0       22550\n",
       "165   21613  0.461627    8.0       17330\n",
       "87    21009  0.470335   14.0       29766\n",
       "89    21014  0.471607   17.0       36047\n",
       "..      ...       ...    ...         ...\n",
       "30    20722  3.502014   20.0        5711\n",
       "175   21771  3.585563  106.0       29563\n",
       "4     20613  3.625632   43.0       11860\n",
       "19    20706  3.954306  153.0       38692\n",
       "6     20623  4.373178   12.0        2744\n",
       "\n",
       "[187 rows x 4 columns]"
      ]
     },
     "execution_count": 23,
     "metadata": {},
     "output_type": "execute_result"
    }
   ],
   "source": [
    "pop_cases['density'] = pop_cases.cases / (pop_cases.population / 1_000)\n",
    "# zips.set_index('ZIPCODE')\n",
    "pop_cases[['ZIPCODE','density','cases','population']].sort_values('density')"
   ]
  },
  {
   "cell_type": "markdown",
   "metadata": {},
   "source": [
    "# Plot"
   ]
  },
  {
   "cell_type": "code",
   "execution_count": 24,
   "metadata": {},
   "outputs": [],
   "source": [
    "import plotly.express as px\n",
    "\n",
    "import plotly.graph_objects as go"
   ]
  },
  {
   "cell_type": "code",
   "execution_count": 25,
   "metadata": {},
   "outputs": [],
   "source": [
    "fig = px.choropleth_mapbox(pop_cases,geojson=md_geos,\n",
    "                           featureidkey='properties.ZCTA5CE10',\n",
    "                           locations='ZIPCODE',\n",
    "                           color='density',\n",
    "                           mapbox_style=\"carto-positron\", \n",
    "                           center={\"lat\": 39.0991, \"lon\" : -76.0255}, # -76.602565, 39.099115999999995\n",
    "                           #opacity=0.5,\n",
    "                           zoom=6\n",
    "                          )\n",
    "                        "
   ]
  },
  {
   "cell_type": "code",
   "execution_count": 26,
   "metadata": {},
   "outputs": [
    {
     "data": {
      "application/vnd.jupyter.widget-view+json": {
       "model_id": "087620cd4fd043b58fcb88718a966200",
       "version_major": 2,
       "version_minor": 0
      },
      "text/plain": [
       "FigureWidget({\n",
       "    'data': [{'coloraxis': 'coloraxis',\n",
       "              'featureidkey': 'properties.ZCTA5CE10',\n",
       " …"
      ]
     },
     "metadata": {},
     "output_type": "display_data"
    }
   ],
   "source": [
    "fw = go.FigureWidget(fig)\n",
    "fw"
   ]
  },
  {
   "cell_type": "markdown",
   "metadata": {},
   "source": [
    "With plotly, you have to manually enter the center coordinates.  This zip is close to the center; find it and print out it's geo shape."
   ]
  },
  {
   "cell_type": "code",
   "execution_count": 40,
   "metadata": {
    "collapsed": true
   },
   "outputs": [
    {
     "name": "stdout",
     "output_type": "stream",
     "text": [
      "{'type': 'Feature', 'properties': {'ZCTA5CE10': '21146', 'AFFGEOID10': '8600000US21146', 'GEOID10': '21146', 'ALAND10': 26503472, 'AWATER10': 7093956}, 'geometry': {'type': 'Polygon', 'coordinates': (((-76.615927, 39.090083), (-76.614615, 39.092098), (-76.611378, 39.090492999999995), (-76.60674, 39.092256), (-76.605198, 39.093202), (-76.605097, 39.099216999999996), (-76.602565, 39.099115999999995), (-76.603659, 39.101469), (-76.602203, 39.101735999999995), (-76.601756, 39.10306), (-76.597636, 39.100688), (-76.597336, 39.09699), (-76.593789, 39.095208), (-76.58690299999999, 39.094179), (-76.580635, 39.094798999999995), (-76.577691, 39.094364999999996), (-76.573016, 39.094961999999995), (-76.56939799999999, 39.097564999999996), (-76.570751, 39.099447999999995), (-76.567031, 39.101129), (-76.565129, 39.1008), (-76.565017, 39.10447), (-76.558677, 39.104437), (-76.555284, 39.102447999999995), (-76.552005, 39.103254), (-76.55071099999999, 39.101929), (-76.54749199999999, 39.101914), (-76.546401, 39.103538), (-76.544124, 39.103423), (-76.54385599999999, 39.102387), (-76.542177, 39.103328999999995), (-76.534571, 39.102954), (-76.535231, 39.10422), (-76.53339799999999, 39.103708), (-76.531875, 39.102364), (-76.532186, 39.099146999999995), (-76.530988, 39.094425), (-76.525419, 39.090322), (-76.52567499999999, 39.088046999999996), (-76.52298499999999, 39.085111), (-76.51777899999999, 39.082248), (-76.51188499999999, 39.077011), (-76.509585, 39.076311), (-76.510785, 39.074611), (-76.513185, 39.072911), (-76.513885, 39.069811), (-76.516204, 39.067923), (-76.519251, 39.063798999999996), (-76.51964199999999, 39.061966), (-76.522975, 39.062885), (-76.526411, 39.059551), (-76.526068, 39.058569), (-76.52801699999999, 39.057624), (-76.525432, 39.054719999999996), (-76.524028, 39.051345), (-76.52372, 39.047565), (-76.52226, 39.043894), (-76.527109, 39.04624), (-76.53398899999999, 39.046465), (-76.533562, 39.046960999999996), (-76.53439, 39.049485), (-76.537747, 39.045454), (-76.545272, 39.040518), (-76.549786, 39.045311), (-76.556664, 39.052), (-76.566435, 39.062833), (-76.56817199999999, 39.065055), (-76.56931399999999, 39.065836), (-76.575712, 39.068388), (-76.57968699999999, 39.068711), (-76.585487, 39.07081), (-76.58858699999999, 39.073409999999996), (-76.591186, 39.074408999999996), (-76.598888, 39.07571), (-76.60313699999999, 39.077588999999996), (-76.604879, 39.07727), (-76.608606, 39.078478), (-76.609185, 39.080602999999996), (-76.61012199999999, 39.080161), (-76.613676, 39.080238), (-76.61361099999999, 39.081584), (-76.612323, 39.083847), (-76.61544599999999, 39.086821), (-76.611969, 39.088325), (-76.61280599999999, 39.089197), (-76.61474, 39.089144), (-76.615927, 39.090083)),)}}\n"
     ]
    }
   ],
   "source": [
    "for rec in md_features:\n",
    "    if rec['properties']['ZCTA5CE10'] == '21146' :\n",
    "        print(rec)\n",
    "        break"
   ]
  },
  {
   "cell_type": "markdown",
   "metadata": {},
   "source": [
    "# State map"
   ]
  },
  {
   "cell_type": "code",
   "execution_count": 80,
   "metadata": {},
   "outputs": [],
   "source": [
    "fig2 = px.choropleth_mapbox(df_states,geojson=md_geos,\n",
    "                           featureidkey='properties.STUSPS',\n",
    "                           locations='state',\n",
    "                           color='positive',\n",
    "                           mapbox_style=\"carto-positron\", \n",
    "                           center={\"lat\": 39.0991, \"lon\" : -76.0255}, # -76.602565, 39.099115999999995\n",
    "                           #opacity=0.5,\n",
    "                           zoom=5\n",
    "                          )\n",
    "                        "
   ]
  },
  {
   "cell_type": "code",
   "execution_count": 81,
   "metadata": {},
   "outputs": [
    {
     "data": {
      "application/vnd.jupyter.widget-view+json": {
       "model_id": "7b52968351774f108fd237fde4a84ae8",
       "version_major": 2,
       "version_minor": 0
      },
      "text/plain": [
       "FigureWidget({\n",
       "    'data': [{'coloraxis': 'coloraxis',\n",
       "              'featureidkey': 'properties.STUSPS',\n",
       "    …"
      ]
     },
     "metadata": {},
     "output_type": "display_data"
    }
   ],
   "source": [
    "go.FigureWidget(fig2)"
   ]
  },
  {
   "cell_type": "markdown",
   "metadata": {},
   "source": [
    "# Misc data\n",
    "\n",
    "Here are misclaneous Web sites with covid related data that I found."
   ]
  },
  {
   "cell_type": "code",
   "execution_count": 52,
   "metadata": {},
   "outputs": [],
   "source": [
    "# https://services9.arcgis.com/6Hv9AANartyT7fJW/arcgis/rest/services/USCounties_cases_V1/FeatureServer/0/query?f=json&returnIdsOnly=false&returnGeometry=false&where=1%3D1&spatialRel=esriSpatialRelIntersects&outSR=102100&cacheHint=true\n",
    "# The were clause aboue &where=1%3D1   => where 1=1\n",
    "# https://covidtracking.com/api\n",
    "# https://coronavirus.dc.gov/sites/default/files/dc/sites/coronavirus/page_content/attachments/DC-COVID-19-Data-forApril-12-2020.xlsx\n",
    "\n",
    "df_dc = pd.read_excel(\"DC-COVID-19-Data-forApril-12-2020.xlsx\")"
   ]
  },
  {
   "cell_type": "code",
   "execution_count": 66,
   "metadata": {},
   "outputs": [
    {
     "data": {
      "text/html": [
       "<div>\n",
       "<style scoped>\n",
       "    .dataframe tbody tr th:only-of-type {\n",
       "        vertical-align: middle;\n",
       "    }\n",
       "\n",
       "    .dataframe tbody tr th {\n",
       "        vertical-align: top;\n",
       "    }\n",
       "\n",
       "    .dataframe thead th {\n",
       "        text-align: right;\n",
       "    }\n",
       "</style>\n",
       "<table border=\"1\" class=\"dataframe\">\n",
       "  <thead>\n",
       "    <tr style=\"text-align: right;\">\n",
       "      <th></th>\n",
       "      <th>Unnamed: 0</th>\n",
       "      <th>Unnamed: 1</th>\n",
       "      <th>2020-04-12 00:00:00</th>\n",
       "    </tr>\n",
       "  </thead>\n",
       "  <tbody>\n",
       "    <tr>\n",
       "      <th>0</th>\n",
       "      <td>NaN</td>\n",
       "      <td>Testing</td>\n",
       "      <td>NaN</td>\n",
       "    </tr>\n",
       "    <tr>\n",
       "      <th>1</th>\n",
       "      <td>Testing</td>\n",
       "      <td>People Tested Overall</td>\n",
       "      <td>10934.0</td>\n",
       "    </tr>\n",
       "    <tr>\n",
       "      <th>2</th>\n",
       "      <td>Testing</td>\n",
       "      <td>Total Positives</td>\n",
       "      <td>1955.0</td>\n",
       "    </tr>\n",
       "    <tr>\n",
       "      <th>3</th>\n",
       "      <td>Testing</td>\n",
       "      <td>Number of Deaths</td>\n",
       "      <td>52.0</td>\n",
       "    </tr>\n",
       "    <tr>\n",
       "      <th>4</th>\n",
       "      <td>Testing</td>\n",
       "      <td>People Recovered</td>\n",
       "      <td>507.0</td>\n",
       "    </tr>\n",
       "    <tr>\n",
       "      <th>5</th>\n",
       "      <td>NaN</td>\n",
       "      <td>NaN</td>\n",
       "      <td>NaN</td>\n",
       "    </tr>\n",
       "    <tr>\n",
       "      <th>6</th>\n",
       "      <td>Hospitals</td>\n",
       "      <td>ICU Beds Available</td>\n",
       "      <td>105.0</td>\n",
       "    </tr>\n",
       "    <tr>\n",
       "      <th>7</th>\n",
       "      <td>Hospitals</td>\n",
       "      <td>Total Ventilators</td>\n",
       "      <td>444.0</td>\n",
       "    </tr>\n",
       "    <tr>\n",
       "      <th>8</th>\n",
       "      <td>Hospitals</td>\n",
       "      <td>Ventilators in Use</td>\n",
       "      <td>218.0</td>\n",
       "    </tr>\n",
       "    <tr>\n",
       "      <th>9</th>\n",
       "      <td>Hospitals</td>\n",
       "      <td>Ventilators Available</td>\n",
       "      <td>226.0</td>\n",
       "    </tr>\n",
       "    <tr>\n",
       "      <th>10</th>\n",
       "      <td>NaN</td>\n",
       "      <td>NaN</td>\n",
       "      <td>NaN</td>\n",
       "    </tr>\n",
       "    <tr>\n",
       "      <th>11</th>\n",
       "      <td>NaN</td>\n",
       "      <td>Public Safety</td>\n",
       "      <td>NaN</td>\n",
       "    </tr>\n",
       "    <tr>\n",
       "      <th>12</th>\n",
       "      <td>Public Safety - FEMS</td>\n",
       "      <td>FEMS</td>\n",
       "      <td>NaN</td>\n",
       "    </tr>\n",
       "    <tr>\n",
       "      <th>13</th>\n",
       "      <td>Public Safety - FEMS</td>\n",
       "      <td>Total Number of Personnel Who Have Tested Posi...</td>\n",
       "      <td>NaN</td>\n",
       "    </tr>\n",
       "    <tr>\n",
       "      <th>14</th>\n",
       "      <td>Public Safety - FEMS</td>\n",
       "      <td>Total Number Personnel Tested Positive and OUT</td>\n",
       "      <td>NaN</td>\n",
       "    </tr>\n",
       "    <tr>\n",
       "      <th>15</th>\n",
       "      <td>Public Safety - FEMS</td>\n",
       "      <td>Total Number Personnel Recovered and  Returned...</td>\n",
       "      <td>NaN</td>\n",
       "    </tr>\n",
       "    <tr>\n",
       "      <th>16</th>\n",
       "      <td>Public Safety - FEMS</td>\n",
       "      <td>Total Number of Personnel in Quarantine Due to...</td>\n",
       "      <td>NaN</td>\n",
       "    </tr>\n",
       "    <tr>\n",
       "      <th>17</th>\n",
       "      <td>Public Safety - FEMS</td>\n",
       "      <td>Total Number of Personnel Out Due to Positive ...</td>\n",
       "      <td>NaN</td>\n",
       "    </tr>\n",
       "    <tr>\n",
       "      <th>18</th>\n",
       "      <td>Public Safety - FEMS</td>\n",
       "      <td>Number of Personnel Returned to Work</td>\n",
       "      <td>NaN</td>\n",
       "    </tr>\n",
       "    <tr>\n",
       "      <th>19</th>\n",
       "      <td>NaN</td>\n",
       "      <td>NaN</td>\n",
       "      <td>NaN</td>\n",
       "    </tr>\n",
       "  </tbody>\n",
       "</table>\n",
       "</div>"
      ],
      "text/plain": [
       "              Unnamed: 0                                         Unnamed: 1  \\\n",
       "0                    NaN                                            Testing   \n",
       "1                Testing                              People Tested Overall   \n",
       "2                Testing                                    Total Positives   \n",
       "3                Testing                                   Number of Deaths   \n",
       "4                Testing                                   People Recovered   \n",
       "5                    NaN                                                NaN   \n",
       "6              Hospitals                                 ICU Beds Available   \n",
       "7              Hospitals                                  Total Ventilators   \n",
       "8              Hospitals                                 Ventilators in Use   \n",
       "9              Hospitals                              Ventilators Available   \n",
       "10                   NaN                                                NaN   \n",
       "11                   NaN                                      Public Safety   \n",
       "12  Public Safety - FEMS                                               FEMS   \n",
       "13  Public Safety - FEMS  Total Number of Personnel Who Have Tested Posi...   \n",
       "14  Public Safety - FEMS     Total Number Personnel Tested Positive and OUT   \n",
       "15  Public Safety - FEMS  Total Number Personnel Recovered and  Returned...   \n",
       "16  Public Safety - FEMS  Total Number of Personnel in Quarantine Due to...   \n",
       "17  Public Safety - FEMS  Total Number of Personnel Out Due to Positive ...   \n",
       "18  Public Safety - FEMS               Number of Personnel Returned to Work   \n",
       "19                   NaN                                                NaN   \n",
       "\n",
       "    2020-04-12 00:00:00  \n",
       "0                   NaN  \n",
       "1               10934.0  \n",
       "2                1955.0  \n",
       "3                  52.0  \n",
       "4                 507.0  \n",
       "5                   NaN  \n",
       "6                 105.0  \n",
       "7                 444.0  \n",
       "8                 218.0  \n",
       "9                 226.0  \n",
       "10                  NaN  \n",
       "11                  NaN  \n",
       "12                  NaN  \n",
       "13                  NaN  \n",
       "14                  NaN  \n",
       "15                  NaN  \n",
       "16                  NaN  \n",
       "17                  NaN  \n",
       "18                  NaN  \n",
       "19                  NaN  "
      ]
     },
     "execution_count": 66,
     "metadata": {},
     "output_type": "execute_result"
    }
   ],
   "source": [
    "df_dc.iloc[0:20,[0,1,38]]"
   ]
  },
  {
   "cell_type": "code",
   "execution_count": 63,
   "metadata": {},
   "outputs": [
    {
     "data": {
      "text/plain": [
       "(74, 39)"
      ]
     },
     "execution_count": 63,
     "metadata": {},
     "output_type": "execute_result"
    }
   ],
   "source": [
    "df_dc.shape"
   ]
  }
 ],
 "metadata": {
  "kernelspec": {
   "display_name": "Python 3",
   "language": "python",
   "name": "python3"
  },
  "language_info": {
   "codemirror_mode": {
    "name": "ipython",
    "version": 3
   },
   "file_extension": ".py",
   "mimetype": "text/x-python",
   "name": "python",
   "nbconvert_exporter": "python",
   "pygments_lexer": "ipython3",
   "version": "3.7.6"
  }
 },
 "nbformat": 4,
 "nbformat_minor": 4
}
