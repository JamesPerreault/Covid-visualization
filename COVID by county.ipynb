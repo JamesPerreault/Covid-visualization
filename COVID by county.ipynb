{
 "cells": [
  {
   "cell_type": "code",
   "execution_count": 38,
   "metadata": {},
   "outputs": [],
   "source": [
    "import pandas as pd\n",
    "import numpy as np\n",
    "\n",
    "import plotly.express as px\n",
    "import plotly.graph_objects as go\n",
    "\n",
    "from ipywidgets import Select, Output, Button,Box\n",
    "from IPython.display import display\n",
    "\n",
    "import requests"
   ]
  },
  {
   "cell_type": "markdown",
   "metadata": {},
   "source": [
    "# Define callback functions"
   ]
  },
  {
   "cell_type": "markdown",
   "metadata": {},
   "source": [
    "Main callback"
   ]
  },
  {
   "cell_type": "code",
   "execution_count": 40,
   "metadata": {},
   "outputs": [],
   "source": [
    "output = Output()\n",
    "\n",
    "@output.capture()\n",
    "def callback(self):\n",
    "    output.clear_output()\n",
    "    print( \"Selection is {}\".format(state_widget.get_interact_value()))\n",
    "    covid_json = get_data(state_widget.get_interact_value())\n",
    "    geos,center = process_data(covid_json)\n",
    "    df = json_to_dataframe(covid_json)\n",
    "    print(\"Got data. Rendering...\")\n",
    "    fig = plot(df,geos,center)\n",
    "    display(go.FigureWidget(fig))"
   ]
  },
  {
   "cell_type": "markdown",
   "metadata": {},
   "source": [
    "## Get the data"
   ]
  },
  {
   "cell_type": "code",
   "execution_count": 26,
   "metadata": {},
   "outputs": [],
   "source": [
    "def get_data(state):\n",
    "    rest_url = 'https://services9.arcgis.com/6Hv9AANartyT7fJW/ArcGIS/rest/services/USCounties_cases_V1/FeatureServer/0/query?where=ST_Abbr%3D%27{}%27&objectIds=&time=&geometry=&geometryType=esriGeometryPolygon&inSR=&spatialRel=esriSpatialRelIntersects&resultType=none&distance=0.0&units=esriSRUnit_Meter&returnGeodetic=false&outFields=Countyname%2CST_Name%2CConfirmedb%2CConfirmed%2CPOP_ESTIMA&returnGeometry=true&returnCentroid=false&featureEncoding=esriDefault&multipatchOption=none&maxAllowableOffset=&geometryPrecision=&outSR=3819&datumTransformation=&applyVCSProjection=true&returnIdsOnly=false&returnUniqueIdsOnly=false&returnCountOnly=false&returnExtentOnly=false&returnQueryGeometry=false&returnDistinctValues=false&cacheHint=false&orderByFields=&groupByFieldsForStatistics=&outStatistics=&having=&resultOffset=&resultRecordCount=&returnZ=false&returnM=false&returnExceededLimitFeatures=true&quantizationParameters=&sqlFormat=none&f=pjson&token='.\\\n",
    "            format(state)\n",
    "\n",
    "    response = requests.get(rest_url)\n",
    "    return response.json()"
   ]
  },
  {
   "cell_type": "markdown",
   "metadata": {},
   "source": [
    "## Process data\n",
    "\n",
    "Get data into a format that can be used by Plotly."
   ]
  },
  {
   "cell_type": "code",
   "execution_count": 5,
   "metadata": {},
   "outputs": [],
   "source": [
    "def process_data(covid_json):\n",
    "    geo_features = []\n",
    "    lat_longs = []\n",
    "    for rec in covid_json['features'] :\n",
    "        new_rec = {}\n",
    "        new_rec['properties'] = rec['attributes']\n",
    "        new_rec['geometry'] = {'type' : 'Polygon' }\n",
    "        new_rec['geometry']['coordinates'] = rec['geometry']['rings']\n",
    "        lat_longs.append(new_rec['geometry']['coordinates'][0][0])\n",
    "        geo_features.append(new_rec)\n",
    "\n",
    "    geos = { \"type\" : \"FeatureCollection\", \"features\" : geo_features}\n",
    "    # Calculate center\n",
    "    center = pd.DataFrame(lat_longs,columns=['lon','lat']).mean().to_dict()\n",
    "    return geos,center"
   ]
  },
  {
   "cell_type": "markdown",
   "metadata": {},
   "source": [
    "## Convert to data frame"
   ]
  },
  {
   "cell_type": "code",
   "execution_count": 6,
   "metadata": {},
   "outputs": [],
   "source": [
    "def json_to_dataframe(covid_json):\n",
    "    features = [ x['attributes'] for x in covid_json['features']]\n",
    "\n",
    "\n",
    "    df = pd.DataFrame(features)\n",
    "    df ['density'] = df.Confirmed / df.POP_ESTIMA * 1_000\n",
    "    return df"
   ]
  },
  {
   "cell_type": "markdown",
   "metadata": {},
   "source": [
    "## Plot"
   ]
  },
  {
   "cell_type": "code",
   "execution_count": 7,
   "metadata": {},
   "outputs": [],
   "source": [
    "def plot(df,geos,center):\n",
    "    fig = px.choropleth_mapbox(df,geojson=geos,\n",
    "                           featureidkey='properties.Countyname',\n",
    "                           locations='Countyname',\n",
    "                           color='density',\n",
    "                           mapbox_style=\"carto-positron\", \n",
    "                           center=center, \n",
    "                           #opacity=0.5,\n",
    "                           zoom=5,\n",
    "                           hover_data=['Confirmed','POP_ESTIMA'],\n",
    "                           #title='COVID cases per capita',\n",
    "                           #height=650\n",
    "                          )\n",
    "    return fig"
   ]
  },
  {
   "cell_type": "markdown",
   "metadata": {},
   "source": [
    "# Output\n",
    "\n",
    "Render output here"
   ]
  },
  {
   "cell_type": "code",
   "execution_count": 41,
   "metadata": {},
   "outputs": [
    {
     "data": {
      "application/vnd.jupyter.widget-view+json": {
       "model_id": "d64529d53ff241428d2f8d746afe09d0",
       "version_major": 2,
       "version_minor": 0
      },
      "text/plain": [
       "Output()"
      ]
     },
     "metadata": {},
     "output_type": "display_data"
    }
   ],
   "source": [
    "output"
   ]
  },
  {
   "cell_type": "markdown",
   "metadata": {},
   "source": [
    "## Select state"
   ]
  },
  {
   "cell_type": "code",
   "execution_count": 42,
   "metadata": {},
   "outputs": [
    {
     "data": {
      "application/vnd.jupyter.widget-view+json": {
       "model_id": "b26f340cdb2c4a1fb8ba15e0111ed779",
       "version_major": 2,
       "version_minor": 0
      },
      "text/plain": [
       "Box(children=(Select(description='Select a state', options={'Alabama ': 'AL', 'Alaska ': 'AK', 'Arizona ': 'AZ…"
      ]
     },
     "metadata": {},
     "output_type": "display_data"
    }
   ],
   "source": [
    "states = pd.read_csv(\"state_abbrv.tsv\",sep=\"\\t\").set_index('state').abbreviation.to_dict()\n",
    "state_widget = Select(description='Select a state', options=states,rows=10)\n",
    "button = Button(description=\"go\")\n",
    "button.on_click(callback)\n",
    "Box([state_widget,button])"
   ]
  },
  {
   "cell_type": "code",
   "execution_count": null,
   "metadata": {},
   "outputs": [],
   "source": []
  }
 ],
 "metadata": {
  "kernelspec": {
   "display_name": "Python 3",
   "language": "python",
   "name": "python3"
  },
  "language_info": {
   "codemirror_mode": {
    "name": "ipython",
    "version": 3
   },
   "file_extension": ".py",
   "mimetype": "text/x-python",
   "name": "python",
   "nbconvert_exporter": "python",
   "pygments_lexer": "ipython3",
   "version": "3.7.6"
  }
 },
 "nbformat": 4,
 "nbformat_minor": 4
}
