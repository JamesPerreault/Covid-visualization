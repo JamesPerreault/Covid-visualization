{
 "cells": [
  {
   "cell_type": "code",
   "execution_count": 1,
   "metadata": {},
   "outputs": [],
   "source": [
    "import pandas as pd\n",
    "import numpy as np"
   ]
  },
  {
   "cell_type": "markdown",
   "metadata": {},
   "source": [
    "# Select state"
   ]
  },
  {
   "cell_type": "code",
   "execution_count": 2,
   "metadata": {},
   "outputs": [],
   "source": [
    "from ipywidgets import Select  "
   ]
  },
  {
   "cell_type": "code",
   "execution_count": 3,
   "metadata": {},
   "outputs": [
    {
     "data": {
      "application/vnd.jupyter.widget-view+json": {
       "model_id": "bbf59e89e5154fc599b8917f4635c12a",
       "version_major": 2,
       "version_minor": 0
      },
      "text/plain": [
       "Select(description='Select a state', options={'Alabama ': 'AL', 'Alaska ': 'AK', 'Arizona ': 'AZ', 'Arkansas '…"
      ]
     },
     "metadata": {},
     "output_type": "display_data"
    }
   ],
   "source": [
    "states = pd.read_csv(\"state_abbrv.tsv\",sep=\"\\t\").set_index('state').abbreviation.to_dict()\n",
    "state_widget = Select(description='Select a state', options=states,rows=10) \n",
    "state_widget"
   ]
  },
  {
   "cell_type": "markdown",
   "metadata": {},
   "source": [
    "# Get the data"
   ]
  },
  {
   "cell_type": "code",
   "execution_count": 4,
   "metadata": {},
   "outputs": [],
   "source": [
    "import requests"
   ]
  },
  {
   "cell_type": "code",
   "execution_count": 50,
   "metadata": {},
   "outputs": [],
   "source": [
    "rest_url = 'https://services9.arcgis.com/6Hv9AANartyT7fJW/ArcGIS/rest/services/USCounties_cases_V1/FeatureServer/0/query?where=ST_Abbr%3D%27{}%27&objectIds=&time=&geometry=&geometryType=esriGeometryPolygon&inSR=&spatialRel=esriSpatialRelIntersects&resultType=none&distance=0.0&units=esriSRUnit_Meter&returnGeodetic=false&outFields=Countyname%2CST_Name%2CConfirmedb%2CConfirmed%2CPOP_ESTIMA&returnGeometry=true&returnCentroid=false&featureEncoding=esriDefault&multipatchOption=none&maxAllowableOffset=&geometryPrecision=&outSR=3819&datumTransformation=&applyVCSProjection=true&returnIdsOnly=false&returnUniqueIdsOnly=false&returnCountOnly=false&returnExtentOnly=false&returnQueryGeometry=false&returnDistinctValues=false&cacheHint=false&orderByFields=&groupByFieldsForStatistics=&outStatistics=&having=&resultOffset=&resultRecordCount=&returnZ=false&returnM=false&returnExceededLimitFeatures=true&quantizationParameters=&sqlFormat=none&f=pjson&token='.\\\n",
    "            format(state_widget.get_interact_value())\n",
    "\n",
    "response = requests.get(rest_url)\n",
    "covid_json = response.json()"
   ]
  },
  {
   "cell_type": "markdown",
   "metadata": {},
   "source": [
    "# Process data\n",
    "\n",
    "Get data into a format that can be used by Plotly."
   ]
  },
  {
   "cell_type": "code",
   "execution_count": 51,
   "metadata": {},
   "outputs": [],
   "source": [
    "geo_features = []\n",
    "lat_longs = []\n",
    "for rec in covid_json['features'] :\n",
    "    new_rec = {}\n",
    "    new_rec['properties'] = rec['attributes']\n",
    "    new_rec['geometry'] = {'type' : 'Polygon' }\n",
    "    new_rec['geometry']['coordinates'] = rec['geometry']['rings']\n",
    "    lat_longs.append(new_rec['geometry']['coordinates'][0][0])\n",
    "    geo_features.append(new_rec)\n",
    "\n",
    "geos = { \"type\" : \"FeatureCollection\", \"features\" : geo_features}"
   ]
  },
  {
   "cell_type": "markdown",
   "metadata": {},
   "source": [
    "Calculate center"
   ]
  },
  {
   "cell_type": "code",
   "execution_count": 53,
   "metadata": {},
   "outputs": [],
   "source": [
    "center = pd.DataFrame(lat_longs,columns=['lon','lat']).mean().to_dict()"
   ]
  },
  {
   "cell_type": "markdown",
   "metadata": {},
   "source": [
    "Convert to data frame"
   ]
  },
  {
   "cell_type": "code",
   "execution_count": 54,
   "metadata": {},
   "outputs": [
    {
     "data": {
      "text/html": [
       "<div>\n",
       "<style scoped>\n",
       "    .dataframe tbody tr th:only-of-type {\n",
       "        vertical-align: middle;\n",
       "    }\n",
       "\n",
       "    .dataframe tbody tr th {\n",
       "        vertical-align: top;\n",
       "    }\n",
       "\n",
       "    .dataframe thead th {\n",
       "        text-align: right;\n",
       "    }\n",
       "</style>\n",
       "<table border=\"1\" class=\"dataframe\">\n",
       "  <thead>\n",
       "    <tr style=\"text-align: right;\">\n",
       "      <th></th>\n",
       "      <th>Countyname</th>\n",
       "      <th>ST_Name</th>\n",
       "      <th>Confirmedb</th>\n",
       "      <th>Confirmed</th>\n",
       "      <th>POP_ESTIMA</th>\n",
       "      <th>density</th>\n",
       "    </tr>\n",
       "  </thead>\n",
       "  <tbody>\n",
       "    <tr>\n",
       "      <th>0</th>\n",
       "      <td>Adams</td>\n",
       "      <td>Wisconsin</td>\n",
       "      <td>14.743464</td>\n",
       "      <td>3</td>\n",
       "      <td>20348</td>\n",
       "      <td>0.147435</td>\n",
       "    </tr>\n",
       "    <tr>\n",
       "      <th>1</th>\n",
       "      <td>Ashland</td>\n",
       "      <td>Wisconsin</td>\n",
       "      <td>12.820513</td>\n",
       "      <td>2</td>\n",
       "      <td>15600</td>\n",
       "      <td>0.128205</td>\n",
       "    </tr>\n",
       "    <tr>\n",
       "      <th>2</th>\n",
       "      <td>Barron</td>\n",
       "      <td>Wisconsin</td>\n",
       "      <td>13.284917</td>\n",
       "      <td>6</td>\n",
       "      <td>45164</td>\n",
       "      <td>0.132849</td>\n",
       "    </tr>\n",
       "    <tr>\n",
       "      <th>3</th>\n",
       "      <td>Bayfield</td>\n",
       "      <td>Wisconsin</td>\n",
       "      <td>19.944156</td>\n",
       "      <td>3</td>\n",
       "      <td>15042</td>\n",
       "      <td>0.199442</td>\n",
       "    </tr>\n",
       "    <tr>\n",
       "      <th>4</th>\n",
       "      <td>Brown</td>\n",
       "      <td>Wisconsin</td>\n",
       "      <td>43.283797</td>\n",
       "      <td>114</td>\n",
       "      <td>263378</td>\n",
       "      <td>0.432838</td>\n",
       "    </tr>\n",
       "    <tr>\n",
       "      <th>...</th>\n",
       "      <td>...</td>\n",
       "      <td>...</td>\n",
       "      <td>...</td>\n",
       "      <td>...</td>\n",
       "      <td>...</td>\n",
       "      <td>...</td>\n",
       "    </tr>\n",
       "    <tr>\n",
       "      <th>67</th>\n",
       "      <td>Waukesha</td>\n",
       "      <td>Wisconsin</td>\n",
       "      <td>59.046523</td>\n",
       "      <td>238</td>\n",
       "      <td>403072</td>\n",
       "      <td>0.590465</td>\n",
       "    </tr>\n",
       "    <tr>\n",
       "      <th>68</th>\n",
       "      <td>Waupaca</td>\n",
       "      <td>Wisconsin</td>\n",
       "      <td>7.823502</td>\n",
       "      <td>4</td>\n",
       "      <td>51128</td>\n",
       "      <td>0.078235</td>\n",
       "    </tr>\n",
       "    <tr>\n",
       "      <th>69</th>\n",
       "      <td>Waushara</td>\n",
       "      <td>Wisconsin</td>\n",
       "      <td>8.243004</td>\n",
       "      <td>2</td>\n",
       "      <td>24263</td>\n",
       "      <td>0.082430</td>\n",
       "    </tr>\n",
       "    <tr>\n",
       "      <th>70</th>\n",
       "      <td>Winnebago</td>\n",
       "      <td>Wisconsin</td>\n",
       "      <td>18.126535</td>\n",
       "      <td>31</td>\n",
       "      <td>171020</td>\n",
       "      <td>0.181265</td>\n",
       "    </tr>\n",
       "    <tr>\n",
       "      <th>71</th>\n",
       "      <td>Wood</td>\n",
       "      <td>Wisconsin</td>\n",
       "      <td>2.737663</td>\n",
       "      <td>2</td>\n",
       "      <td>73055</td>\n",
       "      <td>0.027377</td>\n",
       "    </tr>\n",
       "  </tbody>\n",
       "</table>\n",
       "<p>72 rows × 6 columns</p>\n",
       "</div>"
      ],
      "text/plain": [
       "   Countyname    ST_Name  Confirmedb  Confirmed  POP_ESTIMA   density\n",
       "0       Adams  Wisconsin   14.743464          3       20348  0.147435\n",
       "1     Ashland  Wisconsin   12.820513          2       15600  0.128205\n",
       "2      Barron  Wisconsin   13.284917          6       45164  0.132849\n",
       "3    Bayfield  Wisconsin   19.944156          3       15042  0.199442\n",
       "4       Brown  Wisconsin   43.283797        114      263378  0.432838\n",
       "..        ...        ...         ...        ...         ...       ...\n",
       "67   Waukesha  Wisconsin   59.046523        238      403072  0.590465\n",
       "68    Waupaca  Wisconsin    7.823502          4       51128  0.078235\n",
       "69   Waushara  Wisconsin    8.243004          2       24263  0.082430\n",
       "70  Winnebago  Wisconsin   18.126535         31      171020  0.181265\n",
       "71       Wood  Wisconsin    2.737663          2       73055  0.027377\n",
       "\n",
       "[72 rows x 6 columns]"
      ]
     },
     "execution_count": 54,
     "metadata": {},
     "output_type": "execute_result"
    }
   ],
   "source": [
    "features = [ x['attributes'] for x in covid_json['features']]\n",
    "\n",
    "\n",
    "df = pd.DataFrame(features)\n",
    "df ['density'] = df.Confirmed / df.POP_ESTIMA * 1_000\n",
    "df"
   ]
  },
  {
   "cell_type": "markdown",
   "metadata": {},
   "source": [
    "# Plot"
   ]
  },
  {
   "cell_type": "code",
   "execution_count": 31,
   "metadata": {},
   "outputs": [],
   "source": [
    "import plotly.express as px\n",
    "import plotly.graph_objects as go"
   ]
  },
  {
   "cell_type": "code",
   "execution_count": 55,
   "metadata": {},
   "outputs": [],
   "source": [
    "fig = px.choropleth_mapbox(df,geojson=geos,\n",
    "                           featureidkey='properties.Countyname',\n",
    "                           locations='Countyname',\n",
    "                           color='density',\n",
    "                           mapbox_style=\"carto-positron\", \n",
    "                           center=center, \n",
    "                           #opacity=0.5,\n",
    "                           zoom=5,\n",
    "                           hover_data=['Confirmed','POP_ESTIMA'],\n",
    "                           #title='COVID cases per capita',\n",
    "                           #height=650\n",
    "                          )"
   ]
  },
  {
   "cell_type": "code",
   "execution_count": 56,
   "metadata": {
    "scrolled": false
   },
   "outputs": [
    {
     "data": {
      "application/vnd.jupyter.widget-view+json": {
       "model_id": "871e3aef8a0c4dc48b84aa2a0b310146",
       "version_major": 2,
       "version_minor": 0
      },
      "text/plain": [
       "FigureWidget({\n",
       "    'data': [{'coloraxis': 'coloraxis',\n",
       "              'customdata': array([[     3,  20348],\n",
       "  …"
      ]
     },
     "metadata": {},
     "output_type": "display_data"
    }
   ],
   "source": [
    "go.FigureWidget(fig)"
   ]
  },
  {
   "cell_type": "code",
   "execution_count": null,
   "metadata": {},
   "outputs": [],
   "source": []
  }
 ],
 "metadata": {
  "kernelspec": {
   "display_name": "Python 3",
   "language": "python",
   "name": "python3"
  },
  "language_info": {
   "codemirror_mode": {
    "name": "ipython",
    "version": 3
   },
   "file_extension": ".py",
   "mimetype": "text/x-python",
   "name": "python",
   "nbconvert_exporter": "python",
   "pygments_lexer": "ipython3",
   "version": "3.7.6"
  }
 },
 "nbformat": 4,
 "nbformat_minor": 4
}
