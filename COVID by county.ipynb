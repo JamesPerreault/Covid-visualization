{
 "cells": [
  {
   "cell_type": "code",
   "execution_count": 1,
   "metadata": {},
   "outputs": [],
   "source": [
    "import pandas as pd\n",
    "import numpy as np"
   ]
  },
  {
   "cell_type": "markdown",
   "metadata": {},
   "source": [
    "# Select state"
   ]
  },
  {
   "cell_type": "code",
   "execution_count": 2,
   "metadata": {},
   "outputs": [],
   "source": [
    "from ipywidgets import Select  "
   ]
  },
  {
   "cell_type": "code",
   "execution_count": 3,
   "metadata": {},
   "outputs": [
    {
     "data": {
      "application/vnd.jupyter.widget-view+json": {
       "model_id": "0981fa0eee2f4b499a2b33f6b9e32457",
       "version_major": 2,
       "version_minor": 0
      },
      "text/plain": [
       "Select(description='Select a state', options={'Alabama ': 'AL', 'Alaska ': 'AK', 'Arizona ': 'AZ', 'Arkansas '…"
      ]
     },
     "metadata": {},
     "output_type": "display_data"
    }
   ],
   "source": [
    "states = pd.read_csv(\"state_abbrv.tsv\",sep=\"\\t\")\n",
    "state_widget = Select(description='Select a state', options=states.set_index('state').abbreviation.to_dict(),rows=10) # states.to_records(index=False))\n",
    "state_widget"
   ]
  },
  {
   "cell_type": "markdown",
   "metadata": {},
   "source": [
    "# Get the data"
   ]
  },
  {
   "cell_type": "code",
   "execution_count": 4,
   "metadata": {},
   "outputs": [],
   "source": [
    "import requests"
   ]
  },
  {
   "cell_type": "code",
   "execution_count": 5,
   "metadata": {},
   "outputs": [],
   "source": [
    "rest_url = 'https://services9.arcgis.com/6Hv9AANartyT7fJW/ArcGIS/rest/services/USCounties_cases_V1/FeatureServer/0/query?where=ST_Abbr%3D%27{}%27&objectIds=&time=&geometry=&geometryType=esriGeometryPolygon&inSR=&spatialRel=esriSpatialRelIntersects&resultType=none&distance=0.0&units=esriSRUnit_Meter&returnGeodetic=false&outFields=Countyname%2CST_Name%2CConfirmedb%2CConfirmed%2CPOP_ESTIMA&returnGeometry=true&returnCentroid=false&featureEncoding=esriDefault&multipatchOption=none&maxAllowableOffset=&geometryPrecision=&outSR=3819&datumTransformation=&applyVCSProjection=true&returnIdsOnly=false&returnUniqueIdsOnly=false&returnCountOnly=false&returnExtentOnly=false&returnQueryGeometry=false&returnDistinctValues=false&cacheHint=false&orderByFields=&groupByFieldsForStatistics=&outStatistics=&having=&resultOffset=&resultRecordCount=&returnZ=false&returnM=false&returnExceededLimitFeatures=true&quantizationParameters=&sqlFormat=none&f=pjson&token='.\\\n",
    "            format(state_widget.get_interact_value())"
   ]
  },
  {
   "cell_type": "code",
   "execution_count": 6,
   "metadata": {},
   "outputs": [],
   "source": [
    "response = requests.get(rest_url)\n",
    "covid_json = response.json()"
   ]
  },
  {
   "cell_type": "markdown",
   "metadata": {},
   "source": [
    "# Process data\n",
    "\n",
    "Get data into a format that can be used by Plotly."
   ]
  },
  {
   "cell_type": "code",
   "execution_count": 7,
   "metadata": {},
   "outputs": [],
   "source": [
    "geo_features = []\n",
    "lat_longs = []\n",
    "for rec in covid_json['features'] :\n",
    "    new_rec = {}\n",
    "    new_rec['properties'] = rec['attributes']\n",
    "    new_rec['geometry'] = {'type' : 'Polygon' }\n",
    "    new_rec['geometry']['coordinates'] = rec['geometry']['rings']\n",
    "    lat_longs.append(new_rec['geometry']['coordinates'][0][0])\n",
    "    geo_features.append(new_rec)"
   ]
  },
  {
   "cell_type": "code",
   "execution_count": 8,
   "metadata": {},
   "outputs": [],
   "source": [
    "geos = { \"type\" : \"FeatureCollection\", \"features\" : geo_features}"
   ]
  },
  {
   "cell_type": "markdown",
   "metadata": {},
   "source": [
    "Calculate center"
   ]
  },
  {
   "cell_type": "code",
   "execution_count": 9,
   "metadata": {},
   "outputs": [],
   "source": [
    "center = pd.DataFrame(lat_longs,columns=['lon','lat']).mean().to_dict()"
   ]
  },
  {
   "cell_type": "markdown",
   "metadata": {},
   "source": [
    "Convert to data frame"
   ]
  },
  {
   "cell_type": "code",
   "execution_count": 10,
   "metadata": {},
   "outputs": [],
   "source": [
    "features = [ x['attributes'] for x in covid_json['features']]\n"
   ]
  },
  {
   "cell_type": "code",
   "execution_count": 11,
   "metadata": {},
   "outputs": [
    {
     "data": {
      "text/html": [
       "<div>\n",
       "<style scoped>\n",
       "    .dataframe tbody tr th:only-of-type {\n",
       "        vertical-align: middle;\n",
       "    }\n",
       "\n",
       "    .dataframe tbody tr th {\n",
       "        vertical-align: top;\n",
       "    }\n",
       "\n",
       "    .dataframe thead th {\n",
       "        text-align: right;\n",
       "    }\n",
       "</style>\n",
       "<table border=\"1\" class=\"dataframe\">\n",
       "  <thead>\n",
       "    <tr style=\"text-align: right;\">\n",
       "      <th></th>\n",
       "      <th>Countyname</th>\n",
       "      <th>ST_Name</th>\n",
       "      <th>Confirmedb</th>\n",
       "      <th>Confirmed</th>\n",
       "      <th>POP_ESTIMA</th>\n",
       "      <th>density</th>\n",
       "    </tr>\n",
       "  </thead>\n",
       "  <tbody>\n",
       "    <tr>\n",
       "      <th>0</th>\n",
       "      <td>Acadia</td>\n",
       "      <td>Louisiana</td>\n",
       "      <td>167.229458</td>\n",
       "      <td>104</td>\n",
       "      <td>62190</td>\n",
       "      <td>1.672295</td>\n",
       "    </tr>\n",
       "    <tr>\n",
       "      <th>1</th>\n",
       "      <td>Allen</td>\n",
       "      <td>Louisiana</td>\n",
       "      <td>289.006054</td>\n",
       "      <td>74</td>\n",
       "      <td>25605</td>\n",
       "      <td>2.890061</td>\n",
       "    </tr>\n",
       "    <tr>\n",
       "      <th>2</th>\n",
       "      <td>Ascension</td>\n",
       "      <td>Louisiana</td>\n",
       "      <td>351.321869</td>\n",
       "      <td>438</td>\n",
       "      <td>124672</td>\n",
       "      <td>3.513219</td>\n",
       "    </tr>\n",
       "    <tr>\n",
       "      <th>3</th>\n",
       "      <td>Assumption</td>\n",
       "      <td>Louisiana</td>\n",
       "      <td>551.569507</td>\n",
       "      <td>123</td>\n",
       "      <td>22300</td>\n",
       "      <td>5.515695</td>\n",
       "    </tr>\n",
       "    <tr>\n",
       "      <th>4</th>\n",
       "      <td>Avoyelles</td>\n",
       "      <td>Louisiana</td>\n",
       "      <td>160.644555</td>\n",
       "      <td>65</td>\n",
       "      <td>40462</td>\n",
       "      <td>1.606446</td>\n",
       "    </tr>\n",
       "    <tr>\n",
       "      <th>...</th>\n",
       "      <td>...</td>\n",
       "      <td>...</td>\n",
       "      <td>...</td>\n",
       "      <td>...</td>\n",
       "      <td>...</td>\n",
       "      <td>...</td>\n",
       "    </tr>\n",
       "    <tr>\n",
       "      <th>59</th>\n",
       "      <td>Webster</td>\n",
       "      <td>Louisiana</td>\n",
       "      <td>167.534409</td>\n",
       "      <td>65</td>\n",
       "      <td>38798</td>\n",
       "      <td>1.675344</td>\n",
       "    </tr>\n",
       "    <tr>\n",
       "      <th>60</th>\n",
       "      <td>West Baton Rouge</td>\n",
       "      <td>Louisiana</td>\n",
       "      <td>287.584667</td>\n",
       "      <td>76</td>\n",
       "      <td>26427</td>\n",
       "      <td>2.875847</td>\n",
       "    </tr>\n",
       "    <tr>\n",
       "      <th>61</th>\n",
       "      <td>West Carroll</td>\n",
       "      <td>Louisiana</td>\n",
       "      <td>36.423238</td>\n",
       "      <td>4</td>\n",
       "      <td>10982</td>\n",
       "      <td>0.364232</td>\n",
       "    </tr>\n",
       "    <tr>\n",
       "      <th>62</th>\n",
       "      <td>West Feliciana</td>\n",
       "      <td>Louisiana</td>\n",
       "      <td>297.542044</td>\n",
       "      <td>46</td>\n",
       "      <td>15460</td>\n",
       "      <td>2.975420</td>\n",
       "    </tr>\n",
       "    <tr>\n",
       "      <th>63</th>\n",
       "      <td>Winn</td>\n",
       "      <td>Louisiana</td>\n",
       "      <td>84.901656</td>\n",
       "      <td>12</td>\n",
       "      <td>14134</td>\n",
       "      <td>0.849017</td>\n",
       "    </tr>\n",
       "  </tbody>\n",
       "</table>\n",
       "<p>64 rows × 6 columns</p>\n",
       "</div>"
      ],
      "text/plain": [
       "          Countyname    ST_Name  Confirmedb  Confirmed  POP_ESTIMA   density\n",
       "0             Acadia  Louisiana  167.229458        104       62190  1.672295\n",
       "1              Allen  Louisiana  289.006054         74       25605  2.890061\n",
       "2          Ascension  Louisiana  351.321869        438      124672  3.513219\n",
       "3         Assumption  Louisiana  551.569507        123       22300  5.515695\n",
       "4          Avoyelles  Louisiana  160.644555         65       40462  1.606446\n",
       "..               ...        ...         ...        ...         ...       ...\n",
       "59           Webster  Louisiana  167.534409         65       38798  1.675344\n",
       "60  West Baton Rouge  Louisiana  287.584667         76       26427  2.875847\n",
       "61      West Carroll  Louisiana   36.423238          4       10982  0.364232\n",
       "62    West Feliciana  Louisiana  297.542044         46       15460  2.975420\n",
       "63              Winn  Louisiana   84.901656         12       14134  0.849017\n",
       "\n",
       "[64 rows x 6 columns]"
      ]
     },
     "execution_count": 11,
     "metadata": {},
     "output_type": "execute_result"
    }
   ],
   "source": [
    "df = pd.DataFrame(features)\n",
    "df ['density'] = df.Confirmed / df.POP_ESTIMA * 1_000\n",
    "df"
   ]
  },
  {
   "cell_type": "markdown",
   "metadata": {},
   "source": [
    "# Plot"
   ]
  },
  {
   "cell_type": "code",
   "execution_count": 12,
   "metadata": {},
   "outputs": [],
   "source": [
    "import plotly.express as px\n",
    "import plotly.graph_objects as go"
   ]
  },
  {
   "cell_type": "code",
   "execution_count": 13,
   "metadata": {},
   "outputs": [],
   "source": [
    "fig = px.choropleth_mapbox(df,geojson=geos,\n",
    "                           featureidkey='properties.Countyname',\n",
    "                           locations='Countyname',\n",
    "                           color='density',\n",
    "                           mapbox_style=\"carto-positron\", \n",
    "                           center=center, \n",
    "                           #opacity=0.5,\n",
    "                           zoom=5\n",
    "                          )"
   ]
  },
  {
   "cell_type": "code",
   "execution_count": 15,
   "metadata": {
    "scrolled": false
   },
   "outputs": [
    {
     "data": {
      "application/vnd.jupyter.widget-view+json": {
       "model_id": "c9d9aebe0d634cceb4af85c8df9dee62",
       "version_major": 2,
       "version_minor": 0
      },
      "text/plain": [
       "FigureWidget({\n",
       "    'data': [{'coloraxis': 'coloraxis',\n",
       "              'featureidkey': 'properties.Countyname',\n",
       "…"
      ]
     },
     "metadata": {},
     "output_type": "display_data"
    }
   ],
   "source": [
    "go.FigureWidget(fig)"
   ]
  },
  {
   "cell_type": "code",
   "execution_count": null,
   "metadata": {},
   "outputs": [],
   "source": []
  }
 ],
 "metadata": {
  "kernelspec": {
   "display_name": "Python 3",
   "language": "python",
   "name": "python3"
  },
  "language_info": {
   "codemirror_mode": {
    "name": "ipython",
    "version": 3
   },
   "file_extension": ".py",
   "mimetype": "text/x-python",
   "name": "python",
   "nbconvert_exporter": "python",
   "pygments_lexer": "ipython3",
   "version": "3.7.6"
  }
 },
 "nbformat": 4,
 "nbformat_minor": 4
}
